{
 "cells": [
  {
   "cell_type": "code",
   "execution_count": 2,
   "id": "f2be6b15",
   "metadata": {},
   "outputs": [
    {
     "name": "stdout",
     "output_type": "stream",
     "text": [
      "Requirement already satisfied: pyglet in /usr/local/lib/python3.8/dist-packages (1.5.21)\r\n"
     ]
    }
   ],
   "source": [
    "!pip install pyglet"
   ]
  },
  {
   "cell_type": "code",
   "execution_count": 3,
   "id": "db5beea1",
   "metadata": {},
   "outputs": [
    {
     "name": "stdout",
     "output_type": "stream",
     "text": [
      "Traceback (most recent call last):\r\n",
      "  File \"teste.py\", line 30, in <module>\r\n",
      "    env.render()\r\n",
      "  File \"/usr/local/lib/python3.8/dist-packages/gym/core.py\", line 295, in render\r\n",
      "    return self.env.render(mode, **kwargs)\r\n",
      "  File \"/usr/local/lib/python3.8/dist-packages/gym/envs/classic_control/acrobot.py\", line 188, in render\r\n",
      "    from gym.envs.classic_control import rendering\r\n",
      "  File \"/usr/local/lib/python3.8/dist-packages/gym/envs/classic_control/rendering.py\", line 27, in <module>\r\n",
      "    from pyglet.gl import *\r\n",
      "  File \"/usr/local/lib/python3.8/dist-packages/pyglet/gl/__init__.py\", line 232, in <module>\r\n",
      "    import pyglet.window\r\n",
      "  File \"/usr/local/lib/python3.8/dist-packages/pyglet/window/__init__.py\", line 1918, in <module>\r\n",
      "    gl._create_shadow_window()\r\n",
      "  File \"/usr/local/lib/python3.8/dist-packages/pyglet/gl/__init__.py\", line 206, in _create_shadow_window\r\n",
      "    _shadow_window = Window(width=1, height=1, visible=False)\r\n",
      "  File \"/usr/local/lib/python3.8/dist-packages/pyglet/window/xlib/__init__.py\", line 171, in __init__\r\n",
      "    super(XlibWindow, self).__init__(*args, **kwargs)\r\n",
      "  File \"/usr/local/lib/python3.8/dist-packages/pyglet/window/__init__.py\", line 590, in __init__\r\n",
      "    display = pyglet.canvas.get_display()\r\n",
      "  File \"/usr/local/lib/python3.8/dist-packages/pyglet/canvas/__init__.py\", line 94, in get_display\r\n",
      "    return Display()\r\n",
      "  File \"/usr/local/lib/python3.8/dist-packages/pyglet/canvas/xlib.py\", line 123, in __init__\r\n",
      "    raise NoSuchDisplayException('Cannot connect to \"%s\"' % name)\r\n",
      "pyglet.canvas.xlib.NoSuchDisplayException: Cannot connect to \"None\"\r\n"
     ]
    }
   ],
   "source": [
    "!python3 teste.py"
   ]
  }
 ],
 "metadata": {
  "kernelspec": {
   "display_name": "Python 3 (ipykernel)",
   "language": "python",
   "name": "python3"
  },
  "language_info": {
   "codemirror_mode": {
    "name": "ipython",
    "version": 3
   },
   "file_extension": ".py",
   "mimetype": "text/x-python",
   "name": "python",
   "nbconvert_exporter": "python",
   "pygments_lexer": "ipython3",
   "version": "3.8.10"
  }
 },
 "nbformat": 4,
 "nbformat_minor": 5
}
